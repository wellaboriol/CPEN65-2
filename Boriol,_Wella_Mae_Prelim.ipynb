{
  "nbformat": 4,
  "nbformat_minor": 0,
  "metadata": {
    "colab": {
      "provenance": [],
      "authorship_tag": "ABX9TyNOeB4pPsE0G0ZgiKGjnRRj",
      "include_colab_link": true
    },
    "kernelspec": {
      "name": "python3",
      "display_name": "Python 3"
    },
    "language_info": {
      "name": "python"
    }
  },
  "cells": [
    {
      "cell_type": "markdown",
      "metadata": {
        "id": "view-in-github",
        "colab_type": "text"
      },
      "source": [
        "<a href=\"https://colab.research.google.com/github/wellaboriol/CPEN65-2/blob/main/Boriol%2C_Wella_Mae_Prelim.ipynb\" target=\"_parent\"><img src=\"https://colab.research.google.com/assets/colab-badge.svg\" alt=\"Open In Colab\"/></a>"
      ]
    },
    {
      "cell_type": "code",
      "execution_count": null,
      "metadata": {
        "colab": {
          "base_uri": "https://localhost:8080/"
        },
        "id": "03E1Rnua3FG_",
        "outputId": "8d52a7a2-1916-4e32-c9f5-6d246f8925e6"
      },
      "outputs": [
        {
          "output_type": "stream",
          "name": "stdout",
          "text": [
            "Ana\n",
            "39\n"
          ]
        }
      ],
      "source": [
        "class Person:\n",
        "  def __init__(self, name, age):\n",
        "    self.name = name\n",
        "    self.age = age\n",
        "\n",
        "person = Person(\"Ana\", 39)\n",
        "print(person.name)\n",
        "print(person.age)"
      ]
    },
    {
      "cell_type": "code",
      "source": [
        "class Rectangle:\n",
        "   def __init__(self, length, width):\n",
        "     self.length = length\n",
        "     self.width = width\n",
        "\n",
        "   def Area(self):\n",
        "     print(self.length * self.width)\n",
        "\n",
        "rect = Rectangle (7, 3)\n",
        "rect.Area()"
      ],
      "metadata": {
        "colab": {
          "base_uri": "https://localhost:8080/"
        },
        "id": "TzbRONxN62Jv",
        "outputId": "11f88902-e035-47e1-d4b5-ee301d812fd2"
      },
      "execution_count": null,
      "outputs": [
        {
          "output_type": "stream",
          "name": "stdout",
          "text": [
            "21\n"
          ]
        }
      ]
    }
  ]
}