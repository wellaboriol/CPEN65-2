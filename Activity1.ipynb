{
  "nbformat": 4,
  "nbformat_minor": 0,
  "metadata": {
    "colab": {
      "provenance": [],
      "authorship_tag": "ABX9TyPWefqLFr4SCkJrjIy/XGIz",
      "include_colab_link": true
    },
    "kernelspec": {
      "name": "python3",
      "display_name": "Python 3"
    },
    "language_info": {
      "name": "python"
    }
  },
  "cells": [
    {
      "cell_type": "markdown",
      "metadata": {
        "id": "view-in-github",
        "colab_type": "text"
      },
      "source": [
        "<a href=\"https://colab.research.google.com/github/wellaboriol/CPEN65-2/blob/main/Activity1.ipynb\" target=\"_parent\"><img src=\"https://colab.research.google.com/assets/colab-badge.svg\" alt=\"Open In Colab\"/></a>"
      ]
    },
    {
      "cell_type": "code",
      "source": [
        "select = input(\"Radius or Diameter: \").capitalize()\n",
        "\n",
        "class Radius:\n",
        "  def __init__(self,radius):\n",
        "    self.radius = radius\n",
        "\n",
        "  def area(self):\n",
        "    return 3.142 * (int(self.radius) ** 2)\n",
        "\n",
        "  def display(self):\n",
        "    print(f\"When the radius of the circle is {self.radius}, the area is\",  round(self.area(),2))\n",
        "\n",
        "class Diameter:\n",
        "  def __init__(self,diameter):\n",
        "    self.diameter = diameter\n",
        "\n",
        "  def area(self):\n",
        "    return 3.142 * (int(self.diameter) ** 2)/4\n",
        "\n",
        "  def display(self):\n",
        "    print(f\"When the diameter of the circle is {self.diameter}, the area is\", round(self.area(),2))\n",
        "\n",
        "\n",
        "if select == \"Radius\":\n",
        "  R = Radius(int(input(\"Radius: \")))\n",
        "  R.display()\n",
        "\n",
        "elif select == \"Diameter\":\n",
        "  D = Diameter(int(input(\"Diameter: \")))\n",
        "  D.display()\n",
        "\n",
        "else: \n",
        "  print(\"error\")"
      ],
      "metadata": {
        "colab": {
          "base_uri": "https://localhost:8080/"
        },
        "id": "Ry-uHeGzKvF1",
        "outputId": "8ff4a269-d158-46fe-a475-d4213ff3603e"
      },
      "execution_count": 2,
      "outputs": [
        {
          "output_type": "stream",
          "name": "stdout",
          "text": [
            "Radius or Diameter: Radius\n",
            "Radius: 8\n",
            "When the radius of the circle is 8, the area is 201.09\n"
          ]
        }
      ]
    }
  ]
}