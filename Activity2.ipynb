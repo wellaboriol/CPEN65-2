{
  "nbformat": 4,
  "nbformat_minor": 0,
  "metadata": {
    "colab": {
      "provenance": [],
      "authorship_tag": "ABX9TyOrq441xtLj1SFOI6hVs6E9",
      "include_colab_link": true
    },
    "kernelspec": {
      "name": "python3",
      "display_name": "Python 3"
    },
    "language_info": {
      "name": "python"
    }
  },
  "cells": [
    {
      "cell_type": "markdown",
      "metadata": {
        "id": "view-in-github",
        "colab_type": "text"
      },
      "source": [
        "<a href=\"https://colab.research.google.com/github/wellaboriol/CPEN65-2/blob/main/Activity2.ipynb\" target=\"_parent\"><img src=\"https://colab.research.google.com/assets/colab-badge.svg\" alt=\"Open In Colab\"/></a>"
      ]
    },
    {
      "cell_type": "code",
      "execution_count": 14,
      "metadata": {
        "colab": {
          "base_uri": "https://localhost:8080/"
        },
        "id": "NFtJ3jrNLDjL",
        "outputId": "382c0580-6c40-4f29-b4fa-270ee900364d"
      },
      "outputs": [
        {
          "output_type": "stream",
          "name": "stdout",
          "text": [
            "['alleW', 'eaM', 'odrogaL', 'loiroB']\n",
            "alleWeaModrogaLloiroB\n"
          ]
        }
      ],
      "source": [
        "#Create a Python program that use Array. Insert each character of your full name and displays each character of your full name in reverse order.\n",
        "\n",
        "name = [\"Wella\", \"Mae\", \"Lagordo\", \"Boriol\"]\n",
        "reverse_name = []\n",
        "\n",
        "for x in name:\n",
        "  reverse_name.append(x[::-1])\n",
        "\n",
        "print(reverse_name)\n",
        "print(\"\".join(reverse_name))"
      ]
    }
  ]
}