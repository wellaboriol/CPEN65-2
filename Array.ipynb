{
  "nbformat": 4,
  "nbformat_minor": 0,
  "metadata": {
    "colab": {
      "provenance": [],
      "authorship_tag": "ABX9TyOfW6Oi1ebf4Vovb0p67g60",
      "include_colab_link": true
    },
    "kernelspec": {
      "name": "python3",
      "display_name": "Python 3"
    },
    "language_info": {
      "name": "python"
    }
  },
  "cells": [
    {
      "cell_type": "markdown",
      "metadata": {
        "id": "view-in-github",
        "colab_type": "text"
      },
      "source": [
        "<a href=\"https://colab.research.google.com/github/wellaboriol/CPEN65-2/blob/main/Array.ipynb\" target=\"_parent\"><img src=\"https://colab.research.google.com/assets/colab-badge.svg\" alt=\"Open In Colab\"/></a>"
      ]
    },
    {
      "cell_type": "code",
      "execution_count": 3,
      "metadata": {
        "colab": {
          "base_uri": "https://localhost:8080/"
        },
        "id": "qF4qmHstC6yO",
        "outputId": "039411f2-d3fc-4576-f7e7-3e925d9f9b47"
      },
      "outputs": [
        {
          "output_type": "stream",
          "name": "stdout",
          "text": [
            "Array[0] = cat\n",
            "Array[1] = dog\n"
          ]
        }
      ],
      "source": [
        "#Accessing the elements in an Array\n",
        "animals = [\"cat\",\"dog\",\"elephant\"]\n",
        "x = animals[0]\n",
        "y = animals[1]\n",
        "z = animals[2]\n",
        "print(\"Array[0] =\",x)\n",
        "print(\"Array[1] =\",y)"
      ]
    },
    {
      "cell_type": "code",
      "source": [
        "#Modifying the elements in the Array\n",
        "animals = [\"cat\",\"dog\",\"elephant\"]\n",
        "animals[0] = \"monkey\"\n",
        "x = animals[0]\n",
        "print(\"Array[0] = \",x)\n",
        "print(animals)"
      ],
      "metadata": {
        "colab": {
          "base_uri": "https://localhost:8080/"
        },
        "id": "9ztXMbiwDDIt",
        "outputId": "5540195f-a0cb-4cf7-ecbe-6a2f4f802caf"
      },
      "execution_count": 4,
      "outputs": [
        {
          "output_type": "stream",
          "name": "stdout",
          "text": [
            "Array[0] =  monkey\n",
            "['monkey', 'dog', 'elephant']\n"
          ]
        }
      ]
    },
    {
      "cell_type": "code",
      "source": [
        "#Length of the Array\n",
        "animals = [\"monkey\", \"dog\", \"fish\", \"cat\", \"birds\"]\n",
        "v = len(animals)\n",
        "print(v)"
      ],
      "metadata": {
        "colab": {
          "base_uri": "https://localhost:8080/"
        },
        "id": "1nu--LOZDRBw",
        "outputId": "c90b3046-58c1-47bd-b5fc-da77ecb34a23"
      },
      "execution_count": 5,
      "outputs": [
        {
          "output_type": "stream",
          "name": "stdout",
          "text": [
            "5\n"
          ]
        }
      ]
    },
    {
      "cell_type": "code",
      "source": [
        "#Looping Array Elements\n",
        "animals = [\"monkey\", \"dog\", \"fish\", \"cat\", \"birds\"]\n",
        "for x in animals:\n",
        "  print(x)"
      ],
      "metadata": {
        "colab": {
          "base_uri": "https://localhost:8080/"
        },
        "id": "GhlZOf51DoRo",
        "outputId": "39279c22-7fab-43ee-a665-09986f25df5d"
      },
      "execution_count": 6,
      "outputs": [
        {
          "output_type": "stream",
          "name": "stdout",
          "text": [
            "monkey\n",
            "dog\n",
            "fish\n",
            "cat\n",
            "birds\n"
          ]
        }
      ]
    },
    {
      "cell_type": "code",
      "source": [
        "animals = [\"monkey\", \"dog\", \"fish\", \"cat\", \"birds\"]\n",
        "for index, val in enumerate(animals):\n",
        "  print(index,val)"
      ],
      "metadata": {
        "colab": {
          "base_uri": "https://localhost:8080/"
        },
        "id": "sqeNv8rVDvI6",
        "outputId": "083cc011-0ab6-4fbe-aa28-6052f5c6cd85"
      },
      "execution_count": 7,
      "outputs": [
        {
          "output_type": "stream",
          "name": "stdout",
          "text": [
            "0 monkey\n",
            "1 dog\n",
            "2 fish\n",
            "3 cat\n",
            "4 birds\n"
          ]
        }
      ]
    },
    {
      "cell_type": "code",
      "source": [
        "#Adding Elements in the Array\n",
        "animals = [\"monkey\", \"dog\", \"fish\", \"cat\", \"birds\"]\n",
        "animals.append(\"lion\")\n",
        "print(animals)"
      ],
      "metadata": {
        "colab": {
          "base_uri": "https://localhost:8080/"
        },
        "id": "NkCl1X2SD4_A",
        "outputId": "1399c39f-c0bc-4e56-964f-14f6b1b1a845"
      },
      "execution_count": 8,
      "outputs": [
        {
          "output_type": "stream",
          "name": "stdout",
          "text": [
            "['monkey', 'dog', 'fish', 'cat', 'birds', 'lion']\n"
          ]
        }
      ]
    },
    {
      "cell_type": "code",
      "source": [
        "#Write a Python program to insert a new item (\"11\") before the second element in an existing array. \n",
        "#Original Array: numbers = [1, 2, 3, 4, 5, 6, 7, 8, 9, 10]\n",
        "numbers = [1, 2, 3, 4, 5, 6, 7, 8, 9, 10]\n",
        "numbers.insert(1,11)\n",
        "print(numbers)"
      ],
      "metadata": {
        "colab": {
          "base_uri": "https://localhost:8080/"
        },
        "id": "18t_NXahD6M8",
        "outputId": "a5e66eeb-2c47-4346-93f2-d8c33e9571da"
      },
      "execution_count": 9,
      "outputs": [
        {
          "output_type": "stream",
          "name": "stdout",
          "text": [
            "[1, 11, 2, 3, 4, 5, 6, 7, 8, 9, 10]\n"
          ]
        }
      ]
    },
    {
      "cell_type": "code",
      "source": [
        "#Removing element/s in a Array\n",
        "numbers = [1, 2, 3, 4, 5, 6, 7, 8, 9, 10]\n",
        "animals.pop(1)\n",
        "print(numbers)"
      ],
      "metadata": {
        "colab": {
          "base_uri": "https://localhost:8080/"
        },
        "id": "ogyNiJaKEGCQ",
        "outputId": "b7be0be0-4ddd-4497-c5d2-78e78b2f6088"
      },
      "execution_count": 11,
      "outputs": [
        {
          "output_type": "stream",
          "name": "stdout",
          "text": [
            "[1, 2, 3, 4, 5, 6, 7, 8, 9, 10]\n"
          ]
        }
      ]
    }
  ]
}